{
 "cells": [
  {
   "cell_type": "code",
   "execution_count": 9,
   "id": "a909ed17-fd3f-4440-8179-0bd6b9f5c3a6",
   "metadata": {},
   "outputs": [],
   "source": [
    "# Librerías\n",
    "\n",
    "import pandas as pd\n",
    "import nltk\n",
    "from nltk.corpus import stopwords\n",
    "from nltk.tokenize import word_tokenize\n",
    "from nltk.stem import WordNetLemmatizer\n",
    "import string\n",
    "import re\n",
    "import unicodedata"
   ]
  },
  {
   "cell_type": "code",
   "execution_count": 10,
   "id": "b7235739-2d75-45b8-9f8f-634d4ac527bf",
   "metadata": {},
   "outputs": [],
   "source": [
    "#nltk.download('punkt')\n",
    "#nltk.download('stopwords')\n",
    "#nltk.download('wordnet')"
   ]
  },
  {
   "cell_type": "markdown",
   "id": "07e5cf86-b3a7-4e7e-ae1b-a803550d0c86",
   "metadata": {},
   "source": [
    "# Carga de corpus"
   ]
  },
  {
   "cell_type": "code",
   "execution_count": 11,
   "id": "bbf49d27-83ef-478e-b7bb-3554ea734fa2",
   "metadata": {},
   "outputs": [
    {
     "data": {
      "text/html": [
       "<div>\n",
       "<style scoped>\n",
       "    .dataframe tbody tr th:only-of-type {\n",
       "        vertical-align: middle;\n",
       "    }\n",
       "\n",
       "    .dataframe tbody tr th {\n",
       "        vertical-align: top;\n",
       "    }\n",
       "\n",
       "    .dataframe thead th {\n",
       "        text-align: right;\n",
       "    }\n",
       "</style>\n",
       "<table border=\"1\" class=\"dataframe\">\n",
       "  <thead>\n",
       "    <tr style=\"text-align: right;\">\n",
       "      <th></th>\n",
       "      <th>reviewerID</th>\n",
       "      <th>asin</th>\n",
       "      <th>reviewerName</th>\n",
       "      <th>helpful</th>\n",
       "      <th>reviewText</th>\n",
       "      <th>overall</th>\n",
       "      <th>summary</th>\n",
       "      <th>unixReviewTime</th>\n",
       "      <th>reviewTime</th>\n",
       "      <th>categoría</th>\n",
       "      <th>sentimiento</th>\n",
       "      <th>tokens</th>\n",
       "      <th>cleaned_text</th>\n",
       "      <th>review_length</th>\n",
       "    </tr>\n",
       "  </thead>\n",
       "  <tbody>\n",
       "    <tr>\n",
       "      <th>0</th>\n",
       "      <td>A2VGK9S4DKTMF</td>\n",
       "      <td>B002V9X78U</td>\n",
       "      <td>BWallace</td>\n",
       "      <td>[1, 1]</td>\n",
       "      <td>Let's be clear; I love how much I hate this pr...</td>\n",
       "      <td>1</td>\n",
       "      <td>Lame, even for a white elephant gift</td>\n",
       "      <td>1386720000</td>\n",
       "      <td>2013-12-11</td>\n",
       "      <td>beauty</td>\n",
       "      <td>0</td>\n",
       "      <td>['lets', 'clear', 'love', 'much', 'hate', 'pro...</td>\n",
       "      <td>lets clear love much hate product bought white...</td>\n",
       "      <td>121</td>\n",
       "    </tr>\n",
       "    <tr>\n",
       "      <th>1</th>\n",
       "      <td>A1N2EONG2Y6NUZ</td>\n",
       "      <td>B0001EL5R2</td>\n",
       "      <td>Shana</td>\n",
       "      <td>[0, 0]</td>\n",
       "      <td>This made my skin so greasy and shiny, in addi...</td>\n",
       "      <td>1</td>\n",
       "      <td>Hello greasy skin!</td>\n",
       "      <td>1373587200</td>\n",
       "      <td>2013-07-12</td>\n",
       "      <td>beauty</td>\n",
       "      <td>0</td>\n",
       "      <td>['made', 'skin', 'greasy', 'shiny', 'addition'...</td>\n",
       "      <td>made skin greasy shiny addition helping acne d...</td>\n",
       "      <td>23</td>\n",
       "    </tr>\n",
       "    <tr>\n",
       "      <th>2</th>\n",
       "      <td>ANWZD7ZYE50UE</td>\n",
       "      <td>B005MZS03C</td>\n",
       "      <td>Gilberto Prieto</td>\n",
       "      <td>[0, 5]</td>\n",
       "      <td>i receive the perfume today and they are fake ...</td>\n",
       "      <td>1</td>\n",
       "      <td>FAKE!!!</td>\n",
       "      <td>1379894400</td>\n",
       "      <td>2013-09-23</td>\n",
       "      <td>beauty</td>\n",
       "      <td>0</td>\n",
       "      <td>['receive', 'perfume', 'today', 'fake', 'also'...</td>\n",
       "      <td>receive perfume today fake also bought gucci g...</td>\n",
       "      <td>40</td>\n",
       "    </tr>\n",
       "    <tr>\n",
       "      <th>3</th>\n",
       "      <td>A20RM3LL5IW5JO</td>\n",
       "      <td>B003UZ4R24</td>\n",
       "      <td>Oulzo</td>\n",
       "      <td>[2, 7]</td>\n",
       "      <td>I got excited after seeing the multiple videos...</td>\n",
       "      <td>1</td>\n",
       "      <td>Do not buy, the mask is full of alcohol!!!!!!!</td>\n",
       "      <td>1389398400</td>\n",
       "      <td>2014-01-11</td>\n",
       "      <td>beauty</td>\n",
       "      <td>0</td>\n",
       "      <td>['got', 'excited', 'seeing', 'multiple', 'vide...</td>\n",
       "      <td>got excited seeing multiple videos youtube hea...</td>\n",
       "      <td>237</td>\n",
       "    </tr>\n",
       "    <tr>\n",
       "      <th>4</th>\n",
       "      <td>A3E3GD3TABXKU1</td>\n",
       "      <td>B0017TZD7S</td>\n",
       "      <td>Loren w Christensen</td>\n",
       "      <td>[2, 5]</td>\n",
       "      <td>Maybe I don't get the point with this. Okay, t...</td>\n",
       "      <td>2</td>\n",
       "      <td>don't get its purpose</td>\n",
       "      <td>1215734400</td>\n",
       "      <td>2008-07-11</td>\n",
       "      <td>beauty</td>\n",
       "      <td>0</td>\n",
       "      <td>['maybe', 'dont', 'get', 'point', 'okay', 'use...</td>\n",
       "      <td>maybe dont get point okay use sex sell get sup...</td>\n",
       "      <td>165</td>\n",
       "    </tr>\n",
       "  </tbody>\n",
       "</table>\n",
       "</div>"
      ],
      "text/plain": [
       "       reviewerID        asin         reviewerName helpful  \\\n",
       "0   A2VGK9S4DKTMF  B002V9X78U             BWallace  [1, 1]   \n",
       "1  A1N2EONG2Y6NUZ  B0001EL5R2                Shana  [0, 0]   \n",
       "2   ANWZD7ZYE50UE  B005MZS03C      Gilberto Prieto  [0, 5]   \n",
       "3  A20RM3LL5IW5JO  B003UZ4R24                Oulzo  [2, 7]   \n",
       "4  A3E3GD3TABXKU1  B0017TZD7S  Loren w Christensen  [2, 5]   \n",
       "\n",
       "                                          reviewText  overall  \\\n",
       "0  Let's be clear; I love how much I hate this pr...        1   \n",
       "1  This made my skin so greasy and shiny, in addi...        1   \n",
       "2  i receive the perfume today and they are fake ...        1   \n",
       "3  I got excited after seeing the multiple videos...        1   \n",
       "4  Maybe I don't get the point with this. Okay, t...        2   \n",
       "\n",
       "                                          summary  unixReviewTime  reviewTime  \\\n",
       "0            Lame, even for a white elephant gift      1386720000  2013-12-11   \n",
       "1                              Hello greasy skin!      1373587200  2013-07-12   \n",
       "2                                         FAKE!!!      1379894400  2013-09-23   \n",
       "3  Do not buy, the mask is full of alcohol!!!!!!!      1389398400  2014-01-11   \n",
       "4                           don't get its purpose      1215734400  2008-07-11   \n",
       "\n",
       "  categoría  sentimiento                                             tokens  \\\n",
       "0    beauty            0  ['lets', 'clear', 'love', 'much', 'hate', 'pro...   \n",
       "1    beauty            0  ['made', 'skin', 'greasy', 'shiny', 'addition'...   \n",
       "2    beauty            0  ['receive', 'perfume', 'today', 'fake', 'also'...   \n",
       "3    beauty            0  ['got', 'excited', 'seeing', 'multiple', 'vide...   \n",
       "4    beauty            0  ['maybe', 'dont', 'get', 'point', 'okay', 'use...   \n",
       "\n",
       "                                        cleaned_text  review_length  \n",
       "0  lets clear love much hate product bought white...            121  \n",
       "1  made skin greasy shiny addition helping acne d...             23  \n",
       "2  receive perfume today fake also bought gucci g...             40  \n",
       "3  got excited seeing multiple videos youtube hea...            237  \n",
       "4  maybe dont get point okay use sex sell get sup...            165  "
      ]
     },
     "execution_count": 11,
     "metadata": {},
     "output_type": "execute_result"
    }
   ],
   "source": [
    "df_corpus = pd.read_csv('df_corpus.csv')\n",
    "df_corpus.head()"
   ]
  },
  {
   "cell_type": "code",
   "execution_count": 12,
   "id": "e6ce2b39-b09c-4eba-b316-287236018abc",
   "metadata": {},
   "outputs": [
    {
     "data": {
      "text/plain": [
       "(30000, 14)"
      ]
     },
     "execution_count": 12,
     "metadata": {},
     "output_type": "execute_result"
    }
   ],
   "source": [
    "df_corpus.shape"
   ]
  },
  {
   "cell_type": "code",
   "execution_count": 13,
   "id": "fc1245a1-d53c-4357-9aab-2e23d131bcc7",
   "metadata": {},
   "outputs": [
    {
     "name": "stdout",
     "output_type": "stream",
     "text": [
      "<class 'pandas.core.frame.DataFrame'>\n",
      "RangeIndex: 30000 entries, 0 to 29999\n",
      "Data columns (total 14 columns):\n",
      " #   Column          Non-Null Count  Dtype \n",
      "---  ------          --------------  ----- \n",
      " 0   reviewerID      30000 non-null  object\n",
      " 1   asin            30000 non-null  object\n",
      " 2   reviewerName    29738 non-null  object\n",
      " 3   helpful         30000 non-null  object\n",
      " 4   reviewText      29983 non-null  object\n",
      " 5   overall         30000 non-null  int64 \n",
      " 6   summary         30000 non-null  object\n",
      " 7   unixReviewTime  30000 non-null  int64 \n",
      " 8   reviewTime      30000 non-null  object\n",
      " 9   categoría       30000 non-null  object\n",
      " 10  sentimiento     30000 non-null  int64 \n",
      " 11  tokens          30000 non-null  object\n",
      " 12  cleaned_text    29983 non-null  object\n",
      " 13  review_length   30000 non-null  int64 \n",
      "dtypes: int64(4), object(10)\n",
      "memory usage: 3.2+ MB\n"
     ]
    }
   ],
   "source": [
    "df_corpus.info()"
   ]
  },
  {
   "cell_type": "code",
   "execution_count": 14,
   "id": "409e1dd5-8d6d-4e62-aaa6-151e126b556a",
   "metadata": {},
   "outputs": [],
   "source": [
    "# Vemos que tenemos valores nulos, por lo que vamos a tratarlos"
   ]
  },
  {
   "cell_type": "markdown",
   "id": "bfd7b39b-f3eb-4a9d-bf3e-c02e21be1b79",
   "metadata": {},
   "source": [
    "# Valores nulos"
   ]
  },
  {
   "cell_type": "code",
   "execution_count": 15,
   "id": "c2c5676e-3635-405a-a9b7-9bdd9064ba37",
   "metadata": {},
   "outputs": [],
   "source": [
    "# Al ser pocos, elimino los de la columna \"reviewText\"\n",
    "df_corpus = df_corpus.dropna(subset=['reviewText'])\n",
    "\n",
    "# Imputo valores nulos con una cadena vacía en las demás\n",
    "df_corpus['reviewerName'] = df_corpus['reviewerName'].fillna('')\n",
    "df_corpus['cleaned_text'] = df_corpus['cleaned_text'].fillna('')"
   ]
  },
  {
   "cell_type": "markdown",
   "id": "bd587a2f-9302-44d7-ad8b-a8b7c2d5d067",
   "metadata": {},
   "source": [
    "# Preprocesado"
   ]
  },
  {
   "cell_type": "code",
   "execution_count": 16,
   "id": "41b04afc-b3c3-4063-bb93-2b070f8473e3",
   "metadata": {},
   "outputs": [
    {
     "name": "stdout",
     "output_type": "stream",
     "text": [
      "                                          reviewText  \\\n",
      "0  Let's be clear; I love how much I hate this pr...   \n",
      "1  This made my skin so greasy and shiny, in addi...   \n",
      "2  i receive the perfume today and they are fake ...   \n",
      "3  I got excited after seeing the multiple videos...   \n",
      "4  Maybe I don't get the point with this. Okay, t...   \n",
      "\n",
      "                                  cleaned_reviewText  \n",
      "0  let clear love much hate product bought white ...  \n",
      "1  made skin greasy shiny addition helping acne d...  \n",
      "2  receive perfume today fake also bought gucci g...  \n",
      "3  got excited seeing multiple video youtube heav...  \n",
      "4  maybe dont get point okay use sex sell get sup...  \n"
     ]
    }
   ],
   "source": [
    "# Función para eliminar tildes\n",
    "def remove_accents(text):\n",
    "    nfkd_form = unicodedata.normalize('NFKD', text)\n",
    "    return \"\".join([c for c in nfkd_form if not unicodedata.combining(c)])\n",
    "\n",
    "# Función para eliminar todo carácter que no sea una letra\n",
    "def remove_non_letters(text):\n",
    "    return re.sub(r'[^a-zA-Z\\s]', '', text)\n",
    "\n",
    "# Función para eliminar stopwords\n",
    "def remove_stopwords(tokens):\n",
    "    return [word for word in tokens if word not in stopwords.words('english')]\n",
    "\n",
    "# Función para lematizar tokens\n",
    "def lemmatize_tokens(tokens):\n",
    "    lemmatizer = WordNetLemmatizer()\n",
    "    return [lemmatizer.lemmatize(word) for word in tokens]\n",
    "\n",
    "# Función principal \n",
    "def preprocess_text(text):\n",
    "    text = text.lower()\n",
    "    text = remove_accents(text)\n",
    "    text = re.sub(r'http\\S+|www\\S+|https\\S+', '', text, flags=re.MULTILINE)  # Con esto elimino URLs\n",
    "    text = re.sub(r'\\d+', '', text)  # Con esto elimino números\n",
    "    text = re.sub(r'\\s+', ' ', text)  # Con esto elimino espacios extra\n",
    "    text = re.sub(r'\\[.*?\\]', '', text)  # Con esto elimino texto entre corchetes\n",
    "    text = remove_non_letters(text)\n",
    "    tokens = word_tokenize(text)\n",
    "    tokens = remove_stopwords(tokens)\n",
    "    tokens = lemmatize_tokens(tokens)\n",
    "\n",
    "    return ' '.join(tokens)\n",
    "\n",
    "df_corpus['cleaned_reviewText'] = df_corpus['reviewText'].apply(preprocess_text)\n",
    "\n",
    "# Voy a mostrar algunas de las reviews preprocesadas\n",
    "print(df_corpus[['reviewText', 'cleaned_reviewText']].head())"
   ]
  },
  {
   "cell_type": "code",
   "execution_count": 17,
   "id": "f8fec920-bffe-4ef6-b4f1-e26d30c2a03d",
   "metadata": {},
   "outputs": [],
   "source": [
    "# El preprocesamiento parece lógico y se ha llevado bien a cabo"
   ]
  },
  {
   "cell_type": "markdown",
   "id": "a0273664-a8c5-4482-8e73-3cccd542c3f6",
   "metadata": {},
   "source": [
    "Compruebo de nuevo las dimensiones del corpus para ver que todo está bien y lo guardo para el siguiente notebook"
   ]
  },
  {
   "cell_type": "code",
   "execution_count": 18,
   "id": "2d5baa82-9ac3-451e-b3fa-2cfaeb6fdbf8",
   "metadata": {},
   "outputs": [
    {
     "data": {
      "text/plain": [
       "(29983, 15)"
      ]
     },
     "execution_count": 18,
     "metadata": {},
     "output_type": "execute_result"
    }
   ],
   "source": [
    "df_corpus.shape"
   ]
  },
  {
   "cell_type": "code",
   "execution_count": 19,
   "id": "41d51038-73c0-42b8-b946-7e3c5712c8f9",
   "metadata": {},
   "outputs": [
    {
     "data": {
      "text/html": [
       "<div>\n",
       "<style scoped>\n",
       "    .dataframe tbody tr th:only-of-type {\n",
       "        vertical-align: middle;\n",
       "    }\n",
       "\n",
       "    .dataframe tbody tr th {\n",
       "        vertical-align: top;\n",
       "    }\n",
       "\n",
       "    .dataframe thead th {\n",
       "        text-align: right;\n",
       "    }\n",
       "</style>\n",
       "<table border=\"1\" class=\"dataframe\">\n",
       "  <thead>\n",
       "    <tr style=\"text-align: right;\">\n",
       "      <th></th>\n",
       "      <th>reviewerID</th>\n",
       "      <th>asin</th>\n",
       "      <th>reviewerName</th>\n",
       "      <th>helpful</th>\n",
       "      <th>reviewText</th>\n",
       "      <th>overall</th>\n",
       "      <th>summary</th>\n",
       "      <th>unixReviewTime</th>\n",
       "      <th>reviewTime</th>\n",
       "      <th>categoría</th>\n",
       "      <th>sentimiento</th>\n",
       "      <th>tokens</th>\n",
       "      <th>cleaned_text</th>\n",
       "      <th>review_length</th>\n",
       "      <th>cleaned_reviewText</th>\n",
       "    </tr>\n",
       "  </thead>\n",
       "  <tbody>\n",
       "    <tr>\n",
       "      <th>0</th>\n",
       "      <td>A2VGK9S4DKTMF</td>\n",
       "      <td>B002V9X78U</td>\n",
       "      <td>BWallace</td>\n",
       "      <td>[1, 1]</td>\n",
       "      <td>Let's be clear; I love how much I hate this pr...</td>\n",
       "      <td>1</td>\n",
       "      <td>Lame, even for a white elephant gift</td>\n",
       "      <td>1386720000</td>\n",
       "      <td>2013-12-11</td>\n",
       "      <td>beauty</td>\n",
       "      <td>0</td>\n",
       "      <td>['lets', 'clear', 'love', 'much', 'hate', 'pro...</td>\n",
       "      <td>lets clear love much hate product bought white...</td>\n",
       "      <td>121</td>\n",
       "      <td>let clear love much hate product bought white ...</td>\n",
       "    </tr>\n",
       "    <tr>\n",
       "      <th>1</th>\n",
       "      <td>A1N2EONG2Y6NUZ</td>\n",
       "      <td>B0001EL5R2</td>\n",
       "      <td>Shana</td>\n",
       "      <td>[0, 0]</td>\n",
       "      <td>This made my skin so greasy and shiny, in addi...</td>\n",
       "      <td>1</td>\n",
       "      <td>Hello greasy skin!</td>\n",
       "      <td>1373587200</td>\n",
       "      <td>2013-07-12</td>\n",
       "      <td>beauty</td>\n",
       "      <td>0</td>\n",
       "      <td>['made', 'skin', 'greasy', 'shiny', 'addition'...</td>\n",
       "      <td>made skin greasy shiny addition helping acne d...</td>\n",
       "      <td>23</td>\n",
       "      <td>made skin greasy shiny addition helping acne d...</td>\n",
       "    </tr>\n",
       "    <tr>\n",
       "      <th>2</th>\n",
       "      <td>ANWZD7ZYE50UE</td>\n",
       "      <td>B005MZS03C</td>\n",
       "      <td>Gilberto Prieto</td>\n",
       "      <td>[0, 5]</td>\n",
       "      <td>i receive the perfume today and they are fake ...</td>\n",
       "      <td>1</td>\n",
       "      <td>FAKE!!!</td>\n",
       "      <td>1379894400</td>\n",
       "      <td>2013-09-23</td>\n",
       "      <td>beauty</td>\n",
       "      <td>0</td>\n",
       "      <td>['receive', 'perfume', 'today', 'fake', 'also'...</td>\n",
       "      <td>receive perfume today fake also bought gucci g...</td>\n",
       "      <td>40</td>\n",
       "      <td>receive perfume today fake also bought gucci g...</td>\n",
       "    </tr>\n",
       "    <tr>\n",
       "      <th>3</th>\n",
       "      <td>A20RM3LL5IW5JO</td>\n",
       "      <td>B003UZ4R24</td>\n",
       "      <td>Oulzo</td>\n",
       "      <td>[2, 7]</td>\n",
       "      <td>I got excited after seeing the multiple videos...</td>\n",
       "      <td>1</td>\n",
       "      <td>Do not buy, the mask is full of alcohol!!!!!!!</td>\n",
       "      <td>1389398400</td>\n",
       "      <td>2014-01-11</td>\n",
       "      <td>beauty</td>\n",
       "      <td>0</td>\n",
       "      <td>['got', 'excited', 'seeing', 'multiple', 'vide...</td>\n",
       "      <td>got excited seeing multiple videos youtube hea...</td>\n",
       "      <td>237</td>\n",
       "      <td>got excited seeing multiple video youtube heav...</td>\n",
       "    </tr>\n",
       "    <tr>\n",
       "      <th>4</th>\n",
       "      <td>A3E3GD3TABXKU1</td>\n",
       "      <td>B0017TZD7S</td>\n",
       "      <td>Loren w Christensen</td>\n",
       "      <td>[2, 5]</td>\n",
       "      <td>Maybe I don't get the point with this. Okay, t...</td>\n",
       "      <td>2</td>\n",
       "      <td>don't get its purpose</td>\n",
       "      <td>1215734400</td>\n",
       "      <td>2008-07-11</td>\n",
       "      <td>beauty</td>\n",
       "      <td>0</td>\n",
       "      <td>['maybe', 'dont', 'get', 'point', 'okay', 'use...</td>\n",
       "      <td>maybe dont get point okay use sex sell get sup...</td>\n",
       "      <td>165</td>\n",
       "      <td>maybe dont get point okay use sex sell get sup...</td>\n",
       "    </tr>\n",
       "  </tbody>\n",
       "</table>\n",
       "</div>"
      ],
      "text/plain": [
       "       reviewerID        asin         reviewerName helpful  \\\n",
       "0   A2VGK9S4DKTMF  B002V9X78U             BWallace  [1, 1]   \n",
       "1  A1N2EONG2Y6NUZ  B0001EL5R2                Shana  [0, 0]   \n",
       "2   ANWZD7ZYE50UE  B005MZS03C      Gilberto Prieto  [0, 5]   \n",
       "3  A20RM3LL5IW5JO  B003UZ4R24                Oulzo  [2, 7]   \n",
       "4  A3E3GD3TABXKU1  B0017TZD7S  Loren w Christensen  [2, 5]   \n",
       "\n",
       "                                          reviewText  overall  \\\n",
       "0  Let's be clear; I love how much I hate this pr...        1   \n",
       "1  This made my skin so greasy and shiny, in addi...        1   \n",
       "2  i receive the perfume today and they are fake ...        1   \n",
       "3  I got excited after seeing the multiple videos...        1   \n",
       "4  Maybe I don't get the point with this. Okay, t...        2   \n",
       "\n",
       "                                          summary  unixReviewTime  reviewTime  \\\n",
       "0            Lame, even for a white elephant gift      1386720000  2013-12-11   \n",
       "1                              Hello greasy skin!      1373587200  2013-07-12   \n",
       "2                                         FAKE!!!      1379894400  2013-09-23   \n",
       "3  Do not buy, the mask is full of alcohol!!!!!!!      1389398400  2014-01-11   \n",
       "4                           don't get its purpose      1215734400  2008-07-11   \n",
       "\n",
       "  categoría  sentimiento                                             tokens  \\\n",
       "0    beauty            0  ['lets', 'clear', 'love', 'much', 'hate', 'pro...   \n",
       "1    beauty            0  ['made', 'skin', 'greasy', 'shiny', 'addition'...   \n",
       "2    beauty            0  ['receive', 'perfume', 'today', 'fake', 'also'...   \n",
       "3    beauty            0  ['got', 'excited', 'seeing', 'multiple', 'vide...   \n",
       "4    beauty            0  ['maybe', 'dont', 'get', 'point', 'okay', 'use...   \n",
       "\n",
       "                                        cleaned_text  review_length  \\\n",
       "0  lets clear love much hate product bought white...            121   \n",
       "1  made skin greasy shiny addition helping acne d...             23   \n",
       "2  receive perfume today fake also bought gucci g...             40   \n",
       "3  got excited seeing multiple videos youtube hea...            237   \n",
       "4  maybe dont get point okay use sex sell get sup...            165   \n",
       "\n",
       "                                  cleaned_reviewText  \n",
       "0  let clear love much hate product bought white ...  \n",
       "1  made skin greasy shiny addition helping acne d...  \n",
       "2  receive perfume today fake also bought gucci g...  \n",
       "3  got excited seeing multiple video youtube heav...  \n",
       "4  maybe dont get point okay use sex sell get sup...  "
      ]
     },
     "execution_count": 19,
     "metadata": {},
     "output_type": "execute_result"
    }
   ],
   "source": [
    "df_corpus.head()"
   ]
  },
  {
   "cell_type": "code",
   "execution_count": 20,
   "id": "54420c0d-7d44-4b0a-8878-7528f2bd6cf7",
   "metadata": {},
   "outputs": [
    {
     "name": "stdout",
     "output_type": "stream",
     "text": [
      "<class 'pandas.core.frame.DataFrame'>\n",
      "Index: 29983 entries, 0 to 29999\n",
      "Data columns (total 15 columns):\n",
      " #   Column              Non-Null Count  Dtype \n",
      "---  ------              --------------  ----- \n",
      " 0   reviewerID          29983 non-null  object\n",
      " 1   asin                29983 non-null  object\n",
      " 2   reviewerName        29983 non-null  object\n",
      " 3   helpful             29983 non-null  object\n",
      " 4   reviewText          29983 non-null  object\n",
      " 5   overall             29983 non-null  int64 \n",
      " 6   summary             29983 non-null  object\n",
      " 7   unixReviewTime      29983 non-null  int64 \n",
      " 8   reviewTime          29983 non-null  object\n",
      " 9   categoría           29983 non-null  object\n",
      " 10  sentimiento         29983 non-null  int64 \n",
      " 11  tokens              29983 non-null  object\n",
      " 12  cleaned_text        29983 non-null  object\n",
      " 13  review_length       29983 non-null  int64 \n",
      " 14  cleaned_reviewText  29983 non-null  object\n",
      "dtypes: int64(4), object(11)\n",
      "memory usage: 3.7+ MB\n"
     ]
    }
   ],
   "source": [
    "df_corpus.info()"
   ]
  },
  {
   "cell_type": "code",
   "execution_count": 21,
   "id": "5e47257a-5ae6-4df5-ba10-e7436c1acec8",
   "metadata": {},
   "outputs": [],
   "source": [
    "df_corpus.to_csv('df_corpus.csv', index=False)"
   ]
  },
  {
   "cell_type": "markdown",
   "id": "64ca9475-0429-46c4-bc32-56b34176ab2d",
   "metadata": {},
   "source": [
    "Todo parece estar listo para pasar al proceso de modelado. Usaremos nuestra columna procesada \"cleaned_reviewText\" como variable independiente para predecir el sentimiento."
   ]
  },
  {
   "cell_type": "code",
   "execution_count": null,
   "id": "447f62e3-14e7-4682-bc88-7ec4422dc0d9",
   "metadata": {},
   "outputs": [],
   "source": []
  }
 ],
 "metadata": {
  "kernelspec": {
   "display_name": "Python 3 (ipykernel)",
   "language": "python",
   "name": "python3"
  },
  "language_info": {
   "codemirror_mode": {
    "name": "ipython",
    "version": 3
   },
   "file_extension": ".py",
   "mimetype": "text/x-python",
   "name": "python",
   "nbconvert_exporter": "python",
   "pygments_lexer": "ipython3",
   "version": "3.9.19"
  }
 },
 "nbformat": 4,
 "nbformat_minor": 5
}
